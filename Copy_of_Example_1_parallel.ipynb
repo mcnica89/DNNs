{
  "nbformat": 4,
  "nbformat_minor": 0,
  "metadata": {
    "colab": {
      "name": "Copy of Example 1 - parallel",
      "provenance": [],
      "collapsed_sections": [],
      "include_colab_link": true
    },
    "kernelspec": {
      "name": "python3",
      "display_name": "Python 3"
    },
    "language_info": {
      "name": "python"
    }
  },
  "cells": [
    {
      "cell_type": "markdown",
      "metadata": {
        "id": "view-in-github",
        "colab_type": "text"
      },
      "source": [
        "<a href=\"https://colab.research.google.com/github/mcnica89/DNNs/blob/main/Copy_of_Example_1_parallel.ipynb\" target=\"_parent\"><img src=\"https://colab.research.google.com/assets/colab-badge.svg\" alt=\"Open In Colab\"/></a>"
      ]
    },
    {
      "cell_type": "code",
      "metadata": {
        "colab": {
          "base_uri": "https://localhost:8080/",
          "height": 444
        },
        "id": "Can0uYAHw_px",
        "outputId": "b6d2e759-422d-462c-f332-e6410e89a43c"
      },
      "source": [
        "!pip install xlsxwriter\n",
        "!pip install ortools"
      ],
      "execution_count": null,
      "outputs": [
        {
          "output_type": "stream",
          "text": [
            "Collecting xlsxwriter\n",
            "\u001b[?25l  Downloading https://files.pythonhosted.org/packages/2c/ce/74fd8d638a5b82ea0c6f08a5978f741c2655a38c3d6e82f73a0f084377e6/XlsxWriter-1.4.3-py2.py3-none-any.whl (149kB)\n",
            "\r\u001b[K     |██▏                             | 10kB 16.6MB/s eta 0:00:01\r\u001b[K     |████▍                           | 20kB 21.6MB/s eta 0:00:01\r\u001b[K     |██████▋                         | 30kB 27.0MB/s eta 0:00:01\r\u001b[K     |████████▊                       | 40kB 30.0MB/s eta 0:00:01\r\u001b[K     |███████████                     | 51kB 25.5MB/s eta 0:00:01\r\u001b[K     |█████████████▏                  | 61kB 26.7MB/s eta 0:00:01\r\u001b[K     |███████████████▍                | 71kB 24.6MB/s eta 0:00:01\r\u001b[K     |█████████████████▌              | 81kB 25.8MB/s eta 0:00:01\r\u001b[K     |███████████████████▊            | 92kB 27.4MB/s eta 0:00:01\r\u001b[K     |██████████████████████          | 102kB 28.3MB/s eta 0:00:01\r\u001b[K     |████████████████████████▏       | 112kB 28.3MB/s eta 0:00:01\r\u001b[K     |██████████████████████████▎     | 122kB 28.3MB/s eta 0:00:01\r\u001b[K     |████████████████████████████▌   | 133kB 28.3MB/s eta 0:00:01\r\u001b[K     |██████████████████████████████▊ | 143kB 28.3MB/s eta 0:00:01\r\u001b[K     |████████████████████████████████| 153kB 28.3MB/s \n",
            "\u001b[?25hInstalling collected packages: xlsxwriter\n",
            "Successfully installed xlsxwriter-1.4.3\n",
            "Collecting ortools\n",
            "\u001b[?25l  Downloading https://files.pythonhosted.org/packages/6a/bd/75277072925d687aa35a6ea9e23e81a7f6b7c980b2a80949c5b9a3f98c79/ortools-9.0.9048-cp37-cp37m-manylinux1_x86_64.whl (14.4MB)\n",
            "\u001b[K     |████████████████████████████████| 14.4MB 199kB/s \n",
            "\u001b[?25hCollecting protobuf>=3.15.8\n",
            "\u001b[?25l  Downloading https://files.pythonhosted.org/packages/4c/53/ddcef00219f2a3c863b24288e24a20c3070bd086a1e77706f22994a7f6db/protobuf-3.17.3-cp37-cp37m-manylinux_2_5_x86_64.manylinux1_x86_64.whl (1.0MB)\n",
            "\u001b[K     |████████████████████████████████| 1.0MB 31.2MB/s \n",
            "\u001b[?25hRequirement already satisfied: absl-py>=0.11 in /usr/local/lib/python3.7/dist-packages (from ortools) (0.12.0)\n",
            "Requirement already satisfied: six>=1.9 in /usr/local/lib/python3.7/dist-packages (from protobuf>=3.15.8->ortools) (1.15.0)\n",
            "Installing collected packages: protobuf, ortools\n",
            "  Found existing installation: protobuf 3.12.4\n",
            "    Uninstalling protobuf-3.12.4:\n",
            "      Successfully uninstalled protobuf-3.12.4\n",
            "Successfully installed ortools-9.0.9048 protobuf-3.17.3\n"
          ],
          "name": "stdout"
        },
        {
          "output_type": "display_data",
          "data": {
            "application/vnd.colab-display-data+json": {
              "pip_warning": {
                "packages": [
                  "google"
                ]
              }
            }
          },
          "metadata": {
            "tags": []
          }
        }
      ]
    },
    {
      "cell_type": "code",
      "metadata": {
        "colab": {
          "base_uri": "https://localhost:8080/"
        },
        "id": "i1OpxPbgm0rx",
        "outputId": "f7007cf4-9b4e-4791-cf4e-b0d9a248a82e"
      },
      "source": [
        "import jax.numpy as jnp\n",
        "import numpy as np\n",
        "from jax import random\n",
        "import jax as jx\n",
        "from jax.ops import index, index_update\n",
        "\n",
        "\n",
        "import pandas as pd\n",
        "import scipy as sp\n",
        "import jax.scipy as jsp\n",
        "import math\n",
        "import matplotlib as mpl\n",
        "import statsmodels.api as sm\n",
        "from sklearn import linear_model\n",
        "import time\n",
        "import xlsxwriter\n",
        "\n",
        "from jax.scipy import optimize\n",
        "from ortools.linear_solver import pywraplp\n",
        "\n",
        "from sklearn.linear_model import LinearRegression\n",
        "from scipy.optimize import Bounds\n",
        "\n",
        "%matplotlib inline\n",
        "import matplotlib.pyplot as plt\n",
        "plt.style.use('seaborn-whitegrid')"
      ],
      "execution_count": null,
      "outputs": [
        {
          "output_type": "stream",
          "text": [
            "/usr/local/lib/python3.7/dist-packages/statsmodels/tools/_testing.py:19: FutureWarning: pandas.util.testing is deprecated. Use the functions in the public API at pandas.testing instead.\n",
            "  import pandas.util.testing as tm\n"
          ],
          "name": "stderr"
        }
      ]
    },
    {
      "cell_type": "markdown",
      "metadata": {
        "id": "P9b-2Il8VE4E"
      },
      "source": [
        "**PROCESS:**\n",
        "0. generate n starting points\n",
        "\n",
        "\n",
        "*BEGIN ALGORITHM LOOP*\n",
        "1. generate m walkers for each point \\**In Parallel*\n",
        ">for each q, a member of xPoints or yPoints , make vector of steps within stepsize, and add q to it to create vector of walkers\n",
        ">> should have 2*n vectors of m walkers\n",
        "\n",
        "2. calculate fitness for each vector of walkers \\**In Parallel with other vectors*\n",
        "\n",
        "> For each member of each vector, given corresponding vector: \\**In Parallel with other members*\n",
        "> > 2.1 optimize P1 given P2 using looping bounded optimizer\n",
        "\n",
        "> > 2.2 optimize P2 given P1 using looping bounded optimizer \n",
        "\n",
        "> > 2.3 calculate distance to shadow point (pick a norm)\n",
        "\n",
        "3. for each vector of walkers, find the weighted average and replace corresponding point from xPoints\n",
        "\n",
        "\n",
        "**CONSTRUCTION**\n",
        "\n",
        "xPoints, yPoints - vectors of size n, containing the coords of the points in this generation\n",
        "\n",
        "xWalkers, yWalkers - vectors of size n \\* m containing the coordinates of all the walkers in this generation associated with each point\n",
        "\n",
        "optimizeX(y) and optimizeY(x) - functions that intake 'other' coord and return the optimum for the given coord under their objective function and state of 'other'\n",
        ">These require function to find the bounds, and a function to optimize within those bounds\n",
        "\n",
        "jaxPenalty(x,y) - function should intake a point, utilize optimizeX and optimizeY to find shadow point, then return the norm to that point. \n",
        "> Should be vMapped to intake xPoints and yPoints or xWalkers and yWalkers and return a vector of fitness values"
      ]
    },
    {
      "cell_type": "markdown",
      "metadata": {
        "id": "hYAil8iTzAVk"
      },
      "source": [
        "# 0. Initialize"
      ]
    },
    {
      "cell_type": "code",
      "metadata": {
        "colab": {
          "base_uri": "https://localhost:8080/"
        },
        "id": "7Q2iJU-Vy_pg",
        "outputId": "999dc654-d431-4d0b-e272-2ca5a4271ca3"
      },
      "source": [
        "cols = 20\n",
        "numSelect = 10\n",
        "\n",
        "def make_key():\n",
        "  seed = np.random.randint(2**16 - 1)\n",
        "  return random.PRNGKey(seed)\n",
        "\n",
        "key = make_key()\n",
        "key, subkey = random.split(key)\n",
        "\n",
        "xPoints = random.uniform(key, shape=(3,))\n",
        "yPoints = random.uniform(subkey, shape=(3,))\n",
        "print(xPoints)\n",
        "print(yPoints)\n"
      ],
      "execution_count": null,
      "outputs": [
        {
          "output_type": "stream",
          "text": [
            "[0.05582583 0.89135015 0.7251289 ]\n",
            "[0.3155619  0.43022215 0.80983317]\n"
          ],
          "name": "stdout"
        }
      ]
    },
    {
      "cell_type": "code",
      "metadata": {
        "colab": {
          "base_uri": "https://localhost:8080/"
        },
        "id": "mcDoHK3OVMRo",
        "outputId": "7d462359-62cc-447b-adc4-2f5bc67665c1"
      },
      "source": [
        "yBigger = (xPoints < yPoints)*1\n",
        "ySmaller = (yBigger-1)*(-1)\n",
        "ySmaller"
      ],
      "execution_count": null,
      "outputs": [
        {
          "output_type": "execute_result",
          "data": {
            "text/plain": [
              "DeviceArray([0, 1, 0], dtype=int32)"
            ]
          },
          "metadata": {
            "tags": []
          },
          "execution_count": 13
        }
      ]
    },
    {
      "cell_type": "markdown",
      "metadata": {
        "id": "ah-9Hh4oWxWb"
      },
      "source": [
        "#Prep Optimizer"
      ]
    },
    {
      "cell_type": "code",
      "metadata": {
        "id": "OiVkvel0MuLh"
      },
      "source": [
        "def goldenSearch(lowB, upB, f, maxSpace):\n",
        "  R = (5**0.5 - 1) / 2\n",
        "  D = R * (upB - lowB)\n",
        "  x1 = lowB + D\n",
        "  x2 = upB - D\n",
        "  f1 = f(x1)\n",
        "  f2 = f(x2)\n",
        "\n",
        "\n",
        "\n",
        "  for i in range(5):\n",
        "    f1Lower = (f1 < f2)*1\n",
        "    if f1 < f2:\n",
        "      lowB = x2\n",
        "      x2 = x1\n",
        "      f2 = f1\n",
        "      x1 = lowB + R*(upB - lowB)\n",
        "      f1 = f(x1)\n",
        "    else:\n",
        "      upB = x1\n",
        "      x1 = x2\n",
        "      f1 = f2\n",
        "      x2 = upB - R*(upB - lowB)\n",
        "      f2 = f(x2)\n",
        "\n",
        "    if f1 < f2:\n",
        "      xopt = x1\n",
        "\n",
        "    else:\n",
        "      xopt = x2\n",
        "\n",
        "\n",
        "  \n",
        "  return xopt"
      ],
      "execution_count": null,
      "outputs": []
    },
    {
      "cell_type": "code",
      "metadata": {
        "id": "s3T-NO2icFxh"
      },
      "source": [
        "def goldenVecSearch(lowB, upB, f):\n",
        "  R = (5**0.5 - 1) / 2\n",
        "  D = R * (upB - lowB)\n",
        "  x1 = lowB + D\n",
        "  x2 = upB - D\n",
        "  f1 = f(x1)\n",
        "  f2 = f(x2)\n",
        "  \n",
        "  iter = 0\n",
        "  #for i  in range(50):\n",
        "  while max(abs(f1-f2)) > 0.0001:\n",
        "    f1Lower = (f1 < f2)*1\n",
        "    f2Lower = (f1Lower - 1)*(-1)\n",
        "    \n",
        "    lowB = x2*f1Lower + lowB*f2Lower\n",
        "    x2 = x1* f1Lower + x2*f2Lower\n",
        "    f2 = f1*f1Lower + f2*f2Lower\n",
        "    x1 = (lowB + R*(upB-lowB))*f1Lower + x1*f2Lower\n",
        "    f1 = f(x1)*f1Lower + f1*f2Lower\n",
        "\n",
        "    upB = x1*f2Lower + upB*f1Lower\n",
        "    x1 = x2*f2Lower + x1*f1Lower\n",
        "    f1 = f2*f2Lower + f1*f1Lower\n",
        "    x2 = (upB - R*(upB-lowB))*f2Lower + x2*f1Lower\n",
        "    f2 = f(x2)*f2Lower + f2*f1Lower\n",
        "\n",
        "    iter = iter+1\n",
        "\n",
        "  f1Lower = (f1 < f2)*1\n",
        "  f2Lower = (f1Lower - 1)*(-1)\n",
        "  xOpt = x1*f1Lower + x2*f2Lower\n",
        "  print(iter)\n",
        "\n",
        "  return xOpt"
      ],
      "execution_count": null,
      "outputs": []
    },
    {
      "cell_type": "code",
      "metadata": {
        "colab": {
          "base_uri": "https://localhost:8080/"
        },
        "id": "B1BY5nbncLJq",
        "outputId": "c974294d-8b40-4be5-df16-fa130567f509"
      },
      "source": [
        "lowB = np.array([0, 0, 0, 0])\n",
        "upB = np.array([1,0.5,0.7,0.2])\n",
        "def func(x):\n",
        "  return (0.5-x)**2\n",
        "\n",
        "pleaseWork = goldenVecSearch(lowB, upB, func)\n",
        "pleaseWork"
      ],
      "execution_count": null,
      "outputs": [
        {
          "output_type": "stream",
          "text": [
            "12\n"
          ],
          "name": "stdout"
        },
        {
          "output_type": "execute_result",
          "data": {
            "text/plain": [
              "array([0.49963343, 0.49940688, 0.50009062, 0.19976275])"
            ]
          },
          "metadata": {
            "tags": []
          },
          "execution_count": 42
        }
      ]
    },
    {
      "cell_type": "markdown",
      "metadata": {
        "id": "uNTspn0izxgt"
      },
      "source": [
        "## New optimizers\n"
      ]
    },
    {
      "cell_type": "code",
      "metadata": {
        "id": "Ea4eo5iM0p3E"
      },
      "source": [
        "xMinGConstr = 0\n",
        "xMaxGConstr = 1\n",
        "\n",
        "yMinGConstr = 0\n",
        "yMaxGConstr = 1\n",
        "\n",
        "def findMaxX(y):\n",
        "    maxX = 1-y \n",
        "   # if maxX <=0 : maxX = 0.001\n",
        "    return maxX\n",
        "\n",
        "def findMaxY(x):\n",
        "    maxY = 1-x \n",
        "   # if maxY <= 0: maxY = 0.001\n",
        "    return maxY\n",
        "\n",
        "\n",
        "def optimizeX(y): #Inputs: the other variable value to create bounds, objective function to optimize\n",
        "    \n",
        "    #Constrain my variable by other\n",
        "    myLim = findMaxX(y)\n",
        "    myBounds = (xMinGConstr, myLim)\n",
        "\n",
        "    #ReDefine x function based on y\n",
        "    def funcx(x):\n",
        "        return (x-1)**2\n",
        "  \n",
        "    #Solve x based on xConstraint\n",
        "    \n",
        "    #NEW SOLVER\n",
        "    myOpt = goldenSearch(xMinGConstr, myLim, funcx, 0.001)\n",
        "\n",
        "    return myOpt\n",
        "\n",
        "\n",
        "def optimizeY(x,z): #Inputs: the other variable value to create bounds, objective function to optimize\n",
        "    \n",
        "    #Constrain my variable by other\n",
        "    myLim = findMaxY(x)\n",
        "    myBounds = (yMinGConstr, myLim)\n",
        "\n",
        "    #ReDefine x function based on y\n",
        "    def funcy(y):\n",
        "        return (y-0.5)**2\n",
        "    \n",
        "    #Solve x based on xConstraint\n",
        "    \n",
        "    #NEW SOLVER\n",
        "    myOpt = goldenSearch(yMinGConstr, myLim, funcy, 0.001)\n",
        "\n",
        "    return myOpt"
      ],
      "execution_count": null,
      "outputs": []
    },
    {
      "cell_type": "markdown",
      "metadata": {
        "id": "OylEm6GMz4Ay"
      },
      "source": [
        "## Old Optimizers\n"
      ]
    },
    {
      "cell_type": "code",
      "metadata": {
        "id": "_uYuOMQLzvG9"
      },
      "source": [
        "xMinGConstr = 0\n",
        "xMaxGConstr = 1\n",
        "\n",
        "yMinGConstr = 0\n",
        "yMaxGConstr = 1\n",
        "\n",
        "def oldFindMaxX(y):\n",
        "    maxX = max(0.0001, 1-y) \n",
        "    return maxX\n",
        "\n",
        "def oldFindMaxY(x):\n",
        "    maxY = max(0.0001, 1-x)\n",
        "    return maxY\n",
        "\n",
        "\n",
        "def oldOptimizeX(y): #Inputs: the other variable value to create bounds, objective function to optimize\n",
        "    \n",
        "    #Constrain my variable by other\n",
        "    myLim = findMaxX(y)\n",
        "    myBounds = (xMinGConstr, myLim)\n",
        "\n",
        "    #ReDefine x function based on y\n",
        "    def funcx(x):\n",
        "        return (x-1)**2\n",
        "  \n",
        "    #Solve x based on xConstraint\n",
        "\n",
        "    #OLD SOLVER BELOW\n",
        "    mySolver = sp.optimize.minimize_scalar(funcx, bounds=myBounds, method='bounded', tol=None, options=None)\n",
        "    myOpt = mySolver.x\n",
        "\n",
        "    return myOpt\n",
        "\n",
        "\n",
        "def oldOptimizeY(x): #Inputs: the other variable value to create bounds, objective function to optimize\n",
        "    \n",
        "    #Constrain my variable by other\n",
        "    myLim = findMaxY(x)\n",
        "    myBounds = (yMinGConstr, myLim)\n",
        "\n",
        "    #ReDefine x function based on y\n",
        "    def funcy(y):\n",
        "        return (y-0.5)**2\n",
        "    \n",
        "    #Solve x based on xConstraint\n",
        "    \n",
        "    #OLD SOLVER BELOW\n",
        "    mySolver = sp.optimize.minimize_scalar(funcy, bounds=myBounds, method='bounded', tol=None, options=None)\n",
        "    myOpt = mySolver.x\n",
        "\n",
        "    return myOpt"
      ],
      "execution_count": null,
      "outputs": []
    },
    {
      "cell_type": "code",
      "metadata": {
        "id": "7-9tvs4k31k9"
      },
      "source": [
        "#this is the original penalty function\n",
        "def penalty(x,y):\n",
        "\n",
        "  xOpt = oldOptimizeX(y)\n",
        "  yOpt = oldOptimizeY(x)\n",
        "\n",
        "  xDist = abs(x - xOpt)\n",
        "  yDist = abs(y - yOpt)\n",
        "\n",
        "  return math.sqrt(xDist**2 + yDist**2)\n",
        "\n",
        "def findFitness(xVec, yVec):\n",
        "  vec = np.ones(size)\n",
        "  for i in range(size):\n",
        "    vec[i] = penalty(xVec[i], yVec[i])\n",
        "  return vec"
      ],
      "execution_count": null,
      "outputs": []
    },
    {
      "cell_type": "markdown",
      "metadata": {
        "id": "FblgRIWJUBbp"
      },
      "source": [
        "Ideally, we vectorize this penalty so that we can find the shadow points for all points at once. \n"
      ]
    },
    {
      "cell_type": "code",
      "metadata": {
        "colab": {
          "base_uri": "https://localhost:8080/",
          "height": 707
        },
        "id": "C4fbOnyR8iVc",
        "outputId": "a8789ed9-7d8e-4cac-a7fa-06c09d83a2b0"
      },
      "source": [
        "#this is the vectorized penalty function\n",
        "from jax import vmap\n",
        "def jaxPenalty(x: float, y: float) -> float:\n",
        "  xOpt = optimizeX(y)\n",
        "  yOpt = optimizeY(x)\n",
        "\n",
        "  xDist = abs(x - xOpt)\n",
        "  yDist = abs(y - yOpt)\n",
        "\n",
        "  return math.sqrt(xDist**2 + yDist**2)\n",
        "\n",
        "mapped_penalty=vmap(jaxPenalty)\n",
        "\n",
        "penaltyVec = mapped_penalty(xPoints,yPoints)"
      ],
      "execution_count": null,
      "outputs": [
        {
          "output_type": "error",
          "ename": "ConcretizationTypeError",
          "evalue": "ignored",
          "traceback": [
            "\u001b[0;31m---------------------------------------------------------------------------\u001b[0m",
            "\u001b[0;31mUnfilteredStackTrace\u001b[0m                      Traceback (most recent call last)",
            "\u001b[0;32m<ipython-input-10-807d62217cf6>\u001b[0m in \u001b[0;36m<module>\u001b[0;34m()\u001b[0m\n\u001b[1;32m     13\u001b[0m \u001b[0;34m\u001b[0m\u001b[0m\n\u001b[0;32m---> 14\u001b[0;31m \u001b[0mpenaltyVec\u001b[0m \u001b[0;34m=\u001b[0m \u001b[0mmapped_penalty\u001b[0m\u001b[0;34m(\u001b[0m\u001b[0mxPoints\u001b[0m\u001b[0;34m,\u001b[0m\u001b[0myPoints\u001b[0m\u001b[0;34m)\u001b[0m\u001b[0;34m\u001b[0m\u001b[0;34m\u001b[0m\u001b[0m\n\u001b[0m",
            "\u001b[0;32m/usr/local/lib/python3.7/dist-packages/jax/_src/traceback_util.py\u001b[0m in \u001b[0;36mreraise_with_filtered_traceback\u001b[0;34m(*args, **kwargs)\u001b[0m\n\u001b[1;32m    142\u001b[0m     \u001b[0;32mtry\u001b[0m\u001b[0;34m:\u001b[0m\u001b[0;34m\u001b[0m\u001b[0;34m\u001b[0m\u001b[0m\n\u001b[0;32m--> 143\u001b[0;31m       \u001b[0;32mreturn\u001b[0m \u001b[0mfun\u001b[0m\u001b[0;34m(\u001b[0m\u001b[0;34m*\u001b[0m\u001b[0margs\u001b[0m\u001b[0;34m,\u001b[0m \u001b[0;34m**\u001b[0m\u001b[0mkwargs\u001b[0m\u001b[0;34m)\u001b[0m\u001b[0;34m\u001b[0m\u001b[0;34m\u001b[0m\u001b[0m\n\u001b[0m\u001b[1;32m    144\u001b[0m     \u001b[0;32mexcept\u001b[0m \u001b[0mException\u001b[0m \u001b[0;32mas\u001b[0m \u001b[0me\u001b[0m\u001b[0;34m:\u001b[0m\u001b[0;34m\u001b[0m\u001b[0;34m\u001b[0m\u001b[0m\n",
            "\u001b[0;32m/usr/local/lib/python3.7/dist-packages/jax/_src/api.py\u001b[0m in \u001b[0;36mbatched_fun\u001b[0;34m(*args, **kwargs)\u001b[0m\n\u001b[1;32m   1301\u001b[0m         \u001b[0;32mlambda\u001b[0m\u001b[0;34m:\u001b[0m \u001b[0mflatten_axes\u001b[0m\u001b[0;34m(\u001b[0m\u001b[0;34m\"vmap out_axes\"\u001b[0m\u001b[0;34m,\u001b[0m \u001b[0mout_tree\u001b[0m\u001b[0;34m(\u001b[0m\u001b[0;34m)\u001b[0m\u001b[0;34m,\u001b[0m \u001b[0mout_axes\u001b[0m\u001b[0;34m)\u001b[0m\u001b[0;34m\u001b[0m\u001b[0;34m\u001b[0m\u001b[0m\n\u001b[0;32m-> 1302\u001b[0;31m     ).call_wrapped(*args_flat)\n\u001b[0m\u001b[1;32m   1303\u001b[0m     \u001b[0;32mreturn\u001b[0m \u001b[0mtree_unflatten\u001b[0m\u001b[0;34m(\u001b[0m\u001b[0mout_tree\u001b[0m\u001b[0;34m(\u001b[0m\u001b[0;34m)\u001b[0m\u001b[0;34m,\u001b[0m \u001b[0mout_flat\u001b[0m\u001b[0;34m)\u001b[0m\u001b[0;34m\u001b[0m\u001b[0;34m\u001b[0m\u001b[0m\n",
            "\u001b[0;32m/usr/local/lib/python3.7/dist-packages/jax/linear_util.py\u001b[0m in \u001b[0;36mcall_wrapped\u001b[0;34m(self, *args, **kwargs)\u001b[0m\n\u001b[1;32m    165\u001b[0m     \u001b[0;32mtry\u001b[0m\u001b[0;34m:\u001b[0m\u001b[0;34m\u001b[0m\u001b[0;34m\u001b[0m\u001b[0m\n\u001b[0;32m--> 166\u001b[0;31m       \u001b[0mans\u001b[0m \u001b[0;34m=\u001b[0m \u001b[0mself\u001b[0m\u001b[0;34m.\u001b[0m\u001b[0mf\u001b[0m\u001b[0;34m(\u001b[0m\u001b[0;34m*\u001b[0m\u001b[0margs\u001b[0m\u001b[0;34m,\u001b[0m \u001b[0;34m**\u001b[0m\u001b[0mdict\u001b[0m\u001b[0;34m(\u001b[0m\u001b[0mself\u001b[0m\u001b[0;34m.\u001b[0m\u001b[0mparams\u001b[0m\u001b[0;34m,\u001b[0m \u001b[0;34m**\u001b[0m\u001b[0mkwargs\u001b[0m\u001b[0;34m)\u001b[0m\u001b[0;34m)\u001b[0m\u001b[0;34m\u001b[0m\u001b[0;34m\u001b[0m\u001b[0m\n\u001b[0m\u001b[1;32m    167\u001b[0m     \u001b[0;32mexcept\u001b[0m\u001b[0;34m:\u001b[0m\u001b[0;34m\u001b[0m\u001b[0;34m\u001b[0m\u001b[0m\n",
            "\u001b[0;32m<ipython-input-10-807d62217cf6>\u001b[0m in \u001b[0;36mjaxPenalty\u001b[0;34m(x, y)\u001b[0m\n\u001b[1;32m      3\u001b[0m \u001b[0;32mdef\u001b[0m \u001b[0mjaxPenalty\u001b[0m\u001b[0;34m(\u001b[0m\u001b[0mx\u001b[0m\u001b[0;34m:\u001b[0m \u001b[0mfloat\u001b[0m\u001b[0;34m,\u001b[0m \u001b[0my\u001b[0m\u001b[0;34m:\u001b[0m \u001b[0mfloat\u001b[0m\u001b[0;34m)\u001b[0m \u001b[0;34m->\u001b[0m \u001b[0mfloat\u001b[0m\u001b[0;34m:\u001b[0m\u001b[0;34m\u001b[0m\u001b[0;34m\u001b[0m\u001b[0m\n\u001b[0;32m----> 4\u001b[0;31m   \u001b[0mxOpt\u001b[0m \u001b[0;34m=\u001b[0m \u001b[0moptimizeX\u001b[0m\u001b[0;34m(\u001b[0m\u001b[0my\u001b[0m\u001b[0;34m)\u001b[0m\u001b[0;34m\u001b[0m\u001b[0;34m\u001b[0m\u001b[0m\n\u001b[0m\u001b[1;32m      5\u001b[0m   \u001b[0myOpt\u001b[0m \u001b[0;34m=\u001b[0m \u001b[0moptimizeY\u001b[0m\u001b[0;34m(\u001b[0m\u001b[0mx\u001b[0m\u001b[0;34m)\u001b[0m\u001b[0;34m\u001b[0m\u001b[0;34m\u001b[0m\u001b[0m\n",
            "\u001b[0;32m<ipython-input-9-ad0f5322195b>\u001b[0m in \u001b[0;36moptimizeX\u001b[0;34m(y)\u001b[0m\n\u001b[1;32m     30\u001b[0m     \u001b[0;31m#NEW SOLVER\u001b[0m\u001b[0;34m\u001b[0m\u001b[0;34m\u001b[0m\u001b[0;34m\u001b[0m\u001b[0m\n\u001b[0;32m---> 31\u001b[0;31m     \u001b[0mmyOpt\u001b[0m \u001b[0;34m=\u001b[0m \u001b[0mgoldenSearch\u001b[0m\u001b[0;34m(\u001b[0m\u001b[0mxMinGConstr\u001b[0m\u001b[0;34m,\u001b[0m \u001b[0mmyLim\u001b[0m\u001b[0;34m,\u001b[0m \u001b[0mfuncx\u001b[0m\u001b[0;34m,\u001b[0m \u001b[0;36m0.001\u001b[0m\u001b[0;34m)\u001b[0m\u001b[0;34m\u001b[0m\u001b[0;34m\u001b[0m\u001b[0m\n\u001b[0m\u001b[1;32m     32\u001b[0m \u001b[0;34m\u001b[0m\u001b[0m\n",
            "\u001b[0;32m<ipython-input-8-2aee3dd15c8b>\u001b[0m in \u001b[0;36mgoldenSearch\u001b[0;34m(lowB, upB, f, maxSpace)\u001b[0m\n\u001b[1;32m     10\u001b[0m   \u001b[0;32mfor\u001b[0m \u001b[0mi\u001b[0m \u001b[0;32min\u001b[0m \u001b[0mrange\u001b[0m\u001b[0;34m(\u001b[0m\u001b[0;36m5\u001b[0m\u001b[0;34m)\u001b[0m\u001b[0;34m:\u001b[0m\u001b[0;34m\u001b[0m\u001b[0;34m\u001b[0m\u001b[0m\n\u001b[0;32m---> 11\u001b[0;31m     \u001b[0;32mif\u001b[0m \u001b[0mf1\u001b[0m \u001b[0;34m<\u001b[0m \u001b[0mf2\u001b[0m\u001b[0;34m:\u001b[0m\u001b[0;34m\u001b[0m\u001b[0;34m\u001b[0m\u001b[0m\n\u001b[0m\u001b[1;32m     12\u001b[0m       \u001b[0mlowB\u001b[0m \u001b[0;34m=\u001b[0m \u001b[0mx2\u001b[0m\u001b[0;34m\u001b[0m\u001b[0;34m\u001b[0m\u001b[0m\n",
            "\u001b[0;32m/usr/local/lib/python3.7/dist-packages/jax/core.py\u001b[0m in \u001b[0;36m__bool__\u001b[0;34m(self)\u001b[0m\n\u001b[1;32m    537\u001b[0m   \u001b[0;32mdef\u001b[0m \u001b[0m__nonzero__\u001b[0m\u001b[0;34m(\u001b[0m\u001b[0mself\u001b[0m\u001b[0;34m)\u001b[0m\u001b[0;34m:\u001b[0m \u001b[0;32mreturn\u001b[0m \u001b[0mself\u001b[0m\u001b[0;34m.\u001b[0m\u001b[0maval\u001b[0m\u001b[0;34m.\u001b[0m\u001b[0m_nonzero\u001b[0m\u001b[0;34m(\u001b[0m\u001b[0mself\u001b[0m\u001b[0;34m)\u001b[0m\u001b[0;34m\u001b[0m\u001b[0;34m\u001b[0m\u001b[0m\n\u001b[0;32m--> 538\u001b[0;31m   \u001b[0;32mdef\u001b[0m \u001b[0m__bool__\u001b[0m\u001b[0;34m(\u001b[0m\u001b[0mself\u001b[0m\u001b[0;34m)\u001b[0m\u001b[0;34m:\u001b[0m \u001b[0;32mreturn\u001b[0m \u001b[0mself\u001b[0m\u001b[0;34m.\u001b[0m\u001b[0maval\u001b[0m\u001b[0;34m.\u001b[0m\u001b[0m_bool\u001b[0m\u001b[0;34m(\u001b[0m\u001b[0mself\u001b[0m\u001b[0;34m)\u001b[0m\u001b[0;34m\u001b[0m\u001b[0;34m\u001b[0m\u001b[0m\n\u001b[0m\u001b[1;32m    539\u001b[0m   \u001b[0;32mdef\u001b[0m \u001b[0m__int__\u001b[0m\u001b[0;34m(\u001b[0m\u001b[0mself\u001b[0m\u001b[0;34m)\u001b[0m\u001b[0;34m:\u001b[0m \u001b[0;32mreturn\u001b[0m \u001b[0mself\u001b[0m\u001b[0;34m.\u001b[0m\u001b[0maval\u001b[0m\u001b[0;34m.\u001b[0m\u001b[0m_int\u001b[0m\u001b[0;34m(\u001b[0m\u001b[0mself\u001b[0m\u001b[0;34m)\u001b[0m\u001b[0;34m\u001b[0m\u001b[0;34m\u001b[0m\u001b[0m\n",
            "\u001b[0;32m/usr/local/lib/python3.7/dist-packages/jax/core.py\u001b[0m in \u001b[0;36merror\u001b[0;34m(self, arg)\u001b[0m\n\u001b[1;32m    959\u001b[0m   \u001b[0;32mdef\u001b[0m \u001b[0merror\u001b[0m\u001b[0;34m(\u001b[0m\u001b[0mself\u001b[0m\u001b[0;34m,\u001b[0m \u001b[0marg\u001b[0m\u001b[0;34m)\u001b[0m\u001b[0;34m:\u001b[0m\u001b[0;34m\u001b[0m\u001b[0;34m\u001b[0m\u001b[0m\n\u001b[0;32m--> 960\u001b[0;31m     \u001b[0;32mraise\u001b[0m \u001b[0mConcretizationTypeError\u001b[0m\u001b[0;34m(\u001b[0m\u001b[0marg\u001b[0m\u001b[0;34m,\u001b[0m \u001b[0mfname_context\u001b[0m\u001b[0;34m)\u001b[0m\u001b[0;34m\u001b[0m\u001b[0;34m\u001b[0m\u001b[0m\n\u001b[0m\u001b[1;32m    961\u001b[0m   \u001b[0;32mreturn\u001b[0m \u001b[0merror\u001b[0m\u001b[0;34m\u001b[0m\u001b[0;34m\u001b[0m\u001b[0m\n",
            "\u001b[0;31mUnfilteredStackTrace\u001b[0m: jax._src.errors.ConcretizationTypeError: Abstract tracer value encountered where concrete value is expected: Traced<ShapedArray(bool[])>with<BatchTrace(level=1/0)>\n  with val = DeviceArray([ True,  True,  True], dtype=bool)\n       batch_dim = 0\nThe problem arose with the `bool` function. \n\n (https://jax.readthedocs.io/en/latest/errors.html#jax.errors.ConcretizationTypeError)\n\nThe stack trace below excludes JAX-internal frames.\nThe preceding is the original exception that occurred, unmodified.\n\n--------------------",
            "\nThe above exception was the direct cause of the following exception:\n",
            "\u001b[0;31mConcretizationTypeError\u001b[0m                   Traceback (most recent call last)",
            "\u001b[0;32m<ipython-input-10-807d62217cf6>\u001b[0m in \u001b[0;36m<module>\u001b[0;34m()\u001b[0m\n\u001b[1;32m     12\u001b[0m \u001b[0mmapped_penalty\u001b[0m\u001b[0;34m=\u001b[0m\u001b[0mvmap\u001b[0m\u001b[0;34m(\u001b[0m\u001b[0mjaxPenalty\u001b[0m\u001b[0;34m)\u001b[0m\u001b[0;34m\u001b[0m\u001b[0;34m\u001b[0m\u001b[0m\n\u001b[1;32m     13\u001b[0m \u001b[0;34m\u001b[0m\u001b[0m\n\u001b[0;32m---> 14\u001b[0;31m \u001b[0mpenaltyVec\u001b[0m \u001b[0;34m=\u001b[0m \u001b[0mmapped_penalty\u001b[0m\u001b[0;34m(\u001b[0m\u001b[0mxPoints\u001b[0m\u001b[0;34m,\u001b[0m\u001b[0myPoints\u001b[0m\u001b[0;34m)\u001b[0m\u001b[0;34m\u001b[0m\u001b[0;34m\u001b[0m\u001b[0m\n\u001b[0m",
            "\u001b[0;32m<ipython-input-10-807d62217cf6>\u001b[0m in \u001b[0;36mjaxPenalty\u001b[0;34m(x, y)\u001b[0m\n\u001b[1;32m      2\u001b[0m \u001b[0;32mfrom\u001b[0m \u001b[0mjax\u001b[0m \u001b[0;32mimport\u001b[0m \u001b[0mvmap\u001b[0m\u001b[0;34m\u001b[0m\u001b[0;34m\u001b[0m\u001b[0m\n\u001b[1;32m      3\u001b[0m \u001b[0;32mdef\u001b[0m \u001b[0mjaxPenalty\u001b[0m\u001b[0;34m(\u001b[0m\u001b[0mx\u001b[0m\u001b[0;34m:\u001b[0m \u001b[0mfloat\u001b[0m\u001b[0;34m,\u001b[0m \u001b[0my\u001b[0m\u001b[0;34m:\u001b[0m \u001b[0mfloat\u001b[0m\u001b[0;34m)\u001b[0m \u001b[0;34m->\u001b[0m \u001b[0mfloat\u001b[0m\u001b[0;34m:\u001b[0m\u001b[0;34m\u001b[0m\u001b[0;34m\u001b[0m\u001b[0m\n\u001b[0;32m----> 4\u001b[0;31m   \u001b[0mxOpt\u001b[0m \u001b[0;34m=\u001b[0m \u001b[0moptimizeX\u001b[0m\u001b[0;34m(\u001b[0m\u001b[0my\u001b[0m\u001b[0;34m)\u001b[0m\u001b[0;34m\u001b[0m\u001b[0;34m\u001b[0m\u001b[0m\n\u001b[0m\u001b[1;32m      5\u001b[0m   \u001b[0myOpt\u001b[0m \u001b[0;34m=\u001b[0m \u001b[0moptimizeY\u001b[0m\u001b[0;34m(\u001b[0m\u001b[0mx\u001b[0m\u001b[0;34m)\u001b[0m\u001b[0;34m\u001b[0m\u001b[0;34m\u001b[0m\u001b[0m\n\u001b[1;32m      6\u001b[0m \u001b[0;34m\u001b[0m\u001b[0m\n",
            "\u001b[0;32m<ipython-input-9-ad0f5322195b>\u001b[0m in \u001b[0;36moptimizeX\u001b[0;34m(y)\u001b[0m\n\u001b[1;32m     29\u001b[0m \u001b[0;34m\u001b[0m\u001b[0m\n\u001b[1;32m     30\u001b[0m     \u001b[0;31m#NEW SOLVER\u001b[0m\u001b[0;34m\u001b[0m\u001b[0;34m\u001b[0m\u001b[0;34m\u001b[0m\u001b[0m\n\u001b[0;32m---> 31\u001b[0;31m     \u001b[0mmyOpt\u001b[0m \u001b[0;34m=\u001b[0m \u001b[0mgoldenSearch\u001b[0m\u001b[0;34m(\u001b[0m\u001b[0mxMinGConstr\u001b[0m\u001b[0;34m,\u001b[0m \u001b[0mmyLim\u001b[0m\u001b[0;34m,\u001b[0m \u001b[0mfuncx\u001b[0m\u001b[0;34m,\u001b[0m \u001b[0;36m0.001\u001b[0m\u001b[0;34m)\u001b[0m\u001b[0;34m\u001b[0m\u001b[0;34m\u001b[0m\u001b[0m\n\u001b[0m\u001b[1;32m     32\u001b[0m \u001b[0;34m\u001b[0m\u001b[0m\n\u001b[1;32m     33\u001b[0m     \u001b[0;32mreturn\u001b[0m \u001b[0mmyOpt\u001b[0m\u001b[0;34m\u001b[0m\u001b[0;34m\u001b[0m\u001b[0m\n",
            "\u001b[0;32m<ipython-input-8-2aee3dd15c8b>\u001b[0m in \u001b[0;36mgoldenSearch\u001b[0;34m(lowB, upB, f, maxSpace)\u001b[0m\n\u001b[1;32m      9\u001b[0m \u001b[0;34m\u001b[0m\u001b[0m\n\u001b[1;32m     10\u001b[0m   \u001b[0;32mfor\u001b[0m \u001b[0mi\u001b[0m \u001b[0;32min\u001b[0m \u001b[0mrange\u001b[0m\u001b[0;34m(\u001b[0m\u001b[0;36m5\u001b[0m\u001b[0;34m)\u001b[0m\u001b[0;34m:\u001b[0m\u001b[0;34m\u001b[0m\u001b[0;34m\u001b[0m\u001b[0m\n\u001b[0;32m---> 11\u001b[0;31m     \u001b[0;32mif\u001b[0m \u001b[0mf1\u001b[0m \u001b[0;34m<\u001b[0m \u001b[0mf2\u001b[0m\u001b[0;34m:\u001b[0m\u001b[0;34m\u001b[0m\u001b[0;34m\u001b[0m\u001b[0m\n\u001b[0m\u001b[1;32m     12\u001b[0m       \u001b[0mlowB\u001b[0m \u001b[0;34m=\u001b[0m \u001b[0mx2\u001b[0m\u001b[0;34m\u001b[0m\u001b[0;34m\u001b[0m\u001b[0m\n\u001b[1;32m     13\u001b[0m       \u001b[0mx2\u001b[0m \u001b[0;34m=\u001b[0m \u001b[0mx1\u001b[0m\u001b[0;34m\u001b[0m\u001b[0;34m\u001b[0m\u001b[0m\n",
            "\u001b[0;31mConcretizationTypeError\u001b[0m: Abstract tracer value encountered where concrete value is expected: Traced<ShapedArray(bool[])>with<BatchTrace(level=1/0)>\n  with val = DeviceArray([ True,  True,  True], dtype=bool)\n       batch_dim = 0\nThe problem arose with the `bool` function. \n\n (https://jax.readthedocs.io/en/latest/errors.html#jax.errors.ConcretizationTypeError)"
          ]
        }
      ]
    },
    {
      "cell_type": "code",
      "metadata": {
        "colab": {
          "base_uri": "https://localhost:8080/"
        },
        "id": "RknpdAYqE8Fv",
        "outputId": "0b235ebb-9b67-4f46-ab65-62d2f04a1b39"
      },
      "source": [
        "testVec = np.ones(4)\n",
        "testVec = jx.ops.index_update(testVec, jx.ops.index [0], 4)\n",
        "testVec"
      ],
      "execution_count": null,
      "outputs": [
        {
          "output_type": "execute_result",
          "data": {
            "text/plain": [
              "DeviceArray([4., 1., 1., 1.], dtype=float32)"
            ]
          },
          "metadata": {
            "tags": []
          },
          "execution_count": 58
        }
      ]
    },
    {
      "cell_type": "code",
      "metadata": {
        "colab": {
          "base_uri": "https://localhost:8080/"
        },
        "id": "FYzRqo1FIWIc",
        "outputId": "d0901016-3cbf-44c3-c51c-49c1870891ee"
      },
      "source": [
        "def funcx(x):\n",
        "    return (x-1)**2\n",
        "x = goldenSearch(0,1, funcx, 0.001)\n",
        "x"
      ],
      "execution_count": null,
      "outputs": [
        {
          "output_type": "execute_result",
          "data": {
            "text/plain": [
              "0.9988137587103578"
            ]
          },
          "metadata": {
            "tags": []
          },
          "execution_count": 19
        }
      ]
    },
    {
      "cell_type": "code",
      "metadata": {
        "colab": {
          "base_uri": "https://localhost:8080/"
        },
        "id": "eQdqy6y1T5pv",
        "outputId": "6c343e90-b9d6-451f-bd84-2658b8e59c34"
      },
      "source": [
        "def walkerGenerate(pointVec, size:int, genCount:int, stepSize:float) -> float: #point = point for which you want walkers. size = number of walkers to generate. genCount = current generation number. stepSize = max distance from point each walker can be\n",
        "  key = make_key()\n",
        "  trueStepSize = stepSize*(0.99**genCount)\n",
        "  steps = random.uniform(key, shape=(size,10))*trueStepSize*2\n",
        "  steps = steps - trueStepSize\n",
        "  return steps+pointVec\n",
        "\n",
        "walkerVec1 = walkerGenerate(2.5, 20, 6, 0.1)\n",
        "walkerVec1\n",
        "print(np.shape(walkerVec1))"
      ],
      "execution_count": null,
      "outputs": [
        {
          "output_type": "stream",
          "text": [
            "(20, 10)\n"
          ],
          "name": "stdout"
        }
      ]
    },
    {
      "cell_type": "code",
      "metadata": {
        "colab": {
          "base_uri": "https://localhost:8080/",
          "height": 381
        },
        "id": "DluL13mxlFCK",
        "outputId": "46c4cbdc-1e8a-4da8-bcaf-856c3af28982"
      },
      "source": [
        "\n",
        "\n",
        "inter = 1\n",
        "intmax = 1000\n",
        "\n",
        "size = 10\n",
        "walkerCount = 5\n",
        "stepSize = 0.1\n",
        "\n",
        "t0 = time.time()\n",
        "\n",
        "key = make_key()\n",
        "key, subkey = random.split(key)\n",
        "\n",
        "#Generate initial points\n",
        "xPoints = random.uniform(key, shape=(size,))\n",
        "yPoints = random.uniform(subkey, shape=(size,))\n",
        "\n",
        "\n",
        "while inter < intmax:\n",
        "  inter += 1\n",
        "  #1. Generate walkers\n",
        "\n",
        "  #***NEED TO MODIFY TO MAKE PARALLEL***\n",
        "  for i in range(size):\n",
        "    xWalkerVec[i] = walkerGenerate(xPoints[i], walkerCount, inter, stepSize)\n",
        "    yWalkerVec[i] = walkerGenerate(yPoints[i], walkerCount, inter, stepSize)    \n",
        "\n",
        "  #2. Find Fitness of walkers\n",
        "    #***NEED TO MODIFY TO MAKE PARALLEL, once jaxPenalty works***\n",
        "    fitVec[i] = findFitness(xWalkerVec[i], yWalkerVec[i])\n",
        "\n",
        "  #3. Update the points with weighted average of walkers\n"
      ],
      "execution_count": null,
      "outputs": [
        {
          "output_type": "error",
          "ename": "TypeError",
          "evalue": "ignored",
          "traceback": [
            "\u001b[0;31m---------------------------------------------------------------------------\u001b[0m",
            "\u001b[0;31mTypeError\u001b[0m                                 Traceback (most recent call last)",
            "\u001b[0;32m<ipython-input-15-238914774791>\u001b[0m in \u001b[0;36m<module>\u001b[0;34m()\u001b[0m\n\u001b[1;32m     24\u001b[0m   \u001b[0;31m#***NEED TO MODIFY TO MAKE PARALLEL***\u001b[0m\u001b[0;34m\u001b[0m\u001b[0;34m\u001b[0m\u001b[0;34m\u001b[0m\u001b[0m\n\u001b[1;32m     25\u001b[0m   \u001b[0;32mfor\u001b[0m \u001b[0mi\u001b[0m \u001b[0;32min\u001b[0m \u001b[0mrange\u001b[0m\u001b[0;34m(\u001b[0m\u001b[0msize\u001b[0m\u001b[0;34m)\u001b[0m\u001b[0;34m:\u001b[0m\u001b[0;34m\u001b[0m\u001b[0;34m\u001b[0m\u001b[0m\n\u001b[0;32m---> 26\u001b[0;31m     \u001b[0mxWalkerVec\u001b[0m\u001b[0;34m[\u001b[0m\u001b[0mi\u001b[0m\u001b[0;34m]\u001b[0m \u001b[0;34m=\u001b[0m \u001b[0mwalkerGenerate\u001b[0m\u001b[0;34m(\u001b[0m\u001b[0mxPoints\u001b[0m\u001b[0;34m[\u001b[0m\u001b[0mi\u001b[0m\u001b[0;34m]\u001b[0m\u001b[0;34m,\u001b[0m \u001b[0mwalkerCount\u001b[0m\u001b[0;34m,\u001b[0m \u001b[0minter\u001b[0m\u001b[0;34m,\u001b[0m \u001b[0mstepSize\u001b[0m\u001b[0;34m)\u001b[0m\u001b[0;34m\u001b[0m\u001b[0;34m\u001b[0m\u001b[0m\n\u001b[0m\u001b[1;32m     27\u001b[0m     \u001b[0myWalkerVec\u001b[0m\u001b[0;34m[\u001b[0m\u001b[0mi\u001b[0m\u001b[0;34m]\u001b[0m \u001b[0;34m=\u001b[0m \u001b[0mwalkerGenerate\u001b[0m\u001b[0;34m(\u001b[0m\u001b[0myPoints\u001b[0m\u001b[0;34m[\u001b[0m\u001b[0mi\u001b[0m\u001b[0;34m]\u001b[0m\u001b[0;34m,\u001b[0m \u001b[0mwalkerCount\u001b[0m\u001b[0;34m,\u001b[0m \u001b[0minter\u001b[0m\u001b[0;34m,\u001b[0m \u001b[0mstepSize\u001b[0m\u001b[0;34m)\u001b[0m\u001b[0;34m\u001b[0m\u001b[0;34m\u001b[0m\u001b[0m\n\u001b[1;32m     28\u001b[0m \u001b[0;34m\u001b[0m\u001b[0m\n",
            "\u001b[0;32m/usr/local/lib/python3.7/dist-packages/jax/_src/numpy/lax_numpy.py\u001b[0m in \u001b[0;36m_unimplemented_setitem\u001b[0;34m(self, i, x)\u001b[0m\n\u001b[1;32m   5674\u001b[0m          \u001b[0;34m\"immutable; perhaps you want jax.ops.index_update or \"\u001b[0m\u001b[0;34m\u001b[0m\u001b[0;34m\u001b[0m\u001b[0m\n\u001b[1;32m   5675\u001b[0m          \"jax.ops.index_add instead?\")\n\u001b[0;32m-> 5676\u001b[0;31m   \u001b[0;32mraise\u001b[0m \u001b[0mTypeError\u001b[0m\u001b[0;34m(\u001b[0m\u001b[0mmsg\u001b[0m\u001b[0;34m.\u001b[0m\u001b[0mformat\u001b[0m\u001b[0;34m(\u001b[0m\u001b[0mtype\u001b[0m\u001b[0;34m(\u001b[0m\u001b[0mself\u001b[0m\u001b[0;34m)\u001b[0m\u001b[0;34m)\u001b[0m\u001b[0;34m)\u001b[0m\u001b[0;34m\u001b[0m\u001b[0;34m\u001b[0m\u001b[0m\n\u001b[0m\u001b[1;32m   5677\u001b[0m \u001b[0;34m\u001b[0m\u001b[0m\n\u001b[1;32m   5678\u001b[0m \u001b[0;32mdef\u001b[0m \u001b[0m_operator_round\u001b[0m\u001b[0;34m(\u001b[0m\u001b[0mnumber\u001b[0m\u001b[0;34m,\u001b[0m \u001b[0mndigits\u001b[0m\u001b[0;34m=\u001b[0m\u001b[0;32mNone\u001b[0m\u001b[0;34m)\u001b[0m\u001b[0;34m:\u001b[0m\u001b[0;34m\u001b[0m\u001b[0;34m\u001b[0m\u001b[0m\n",
            "\u001b[0;31mTypeError\u001b[0m: '<class 'jaxlib.xla_extension.DeviceArray'>' object does not support item assignment. JAX arrays are immutable; perhaps you want jax.ops.index_update or jax.ops.index_add instead?"
          ]
        }
      ]
    },
    {
      "cell_type": "code",
      "metadata": {
        "colab": {
          "base_uri": "https://localhost:8080/",
          "height": 238
        },
        "id": "foPCyHx00jcT",
        "outputId": "7056f54b-4f0f-4c23-e275-3854a950b77b"
      },
      "source": [
        "inter = 1\n",
        "intmax = 1000\n",
        "\n",
        "numPoints = 10\n",
        "size = 5\n",
        "walkerCount = 5\n",
        "stepSize = 0.1\n",
        "\n",
        "t0 = time.time()\n",
        "\n",
        "key = make_key()\n",
        "key, subkey = random.split(key)\n",
        "\n",
        "#Generate initial points\n",
        "xPoints = random.uniform(key, shape=(numPoints,))\n",
        "yPoints = random.uniform(subkey, shape=(numPoints,))\n",
        "\n",
        "xWalkerVec = np.ones((10,5))\n",
        "yWalkerVec = np.ones((10,5))\n",
        "\n",
        "fitVec = np.ones((10,5))\n",
        "\n",
        "for i in range(size):\n",
        "  xWalkerVec[i,:] = walkerGenerate(xPoints[i], walkerCount, inter, stepSize)\n",
        "  yWalkerVec[i,:] = walkerGenerate(yPoints[i], walkerCount, inter, stepSize)   \n",
        "\n",
        "  fitVec[i,:] = findFitness(xWalkerVec[i], yWalkerVec[i])"
      ],
      "execution_count": null,
      "outputs": [
        {
          "output_type": "error",
          "ename": "IndexError",
          "evalue": "ignored",
          "traceback": [
            "\u001b[0;31m---------------------------------------------------------------------------\u001b[0m",
            "\u001b[0;31mIndexError\u001b[0m                                Traceback (most recent call last)",
            "\u001b[0;32m<ipython-input-25-22b7e4d8f420>\u001b[0m in \u001b[0;36m<module>\u001b[0;34m()\u001b[0m\n\u001b[1;32m     22\u001b[0m \u001b[0;34m\u001b[0m\u001b[0m\n\u001b[1;32m     23\u001b[0m \u001b[0;32mfor\u001b[0m \u001b[0mi\u001b[0m \u001b[0;32min\u001b[0m \u001b[0mrange\u001b[0m\u001b[0;34m(\u001b[0m\u001b[0msize\u001b[0m\u001b[0;34m)\u001b[0m\u001b[0;34m:\u001b[0m\u001b[0;34m\u001b[0m\u001b[0;34m\u001b[0m\u001b[0m\n\u001b[0;32m---> 24\u001b[0;31m   \u001b[0mxWalkerVec\u001b[0m\u001b[0;34m[\u001b[0m\u001b[0mi\u001b[0m\u001b[0;34m,\u001b[0m\u001b[0;34m:\u001b[0m\u001b[0;34m]\u001b[0m \u001b[0;34m=\u001b[0m \u001b[0mwalkerGenerate\u001b[0m\u001b[0;34m(\u001b[0m\u001b[0mxPoints\u001b[0m\u001b[0;34m[\u001b[0m\u001b[0mi\u001b[0m\u001b[0;34m]\u001b[0m\u001b[0;34m,\u001b[0m \u001b[0mwalkerCount\u001b[0m\u001b[0;34m,\u001b[0m \u001b[0minter\u001b[0m\u001b[0;34m,\u001b[0m \u001b[0mstepSize\u001b[0m\u001b[0;34m)\u001b[0m\u001b[0;34m\u001b[0m\u001b[0;34m\u001b[0m\u001b[0m\n\u001b[0m\u001b[1;32m     25\u001b[0m   \u001b[0myWalkerVec\u001b[0m\u001b[0;34m[\u001b[0m\u001b[0mi\u001b[0m\u001b[0;34m,\u001b[0m\u001b[0;34m:\u001b[0m\u001b[0;34m]\u001b[0m \u001b[0;34m=\u001b[0m \u001b[0mwalkerGenerate\u001b[0m\u001b[0;34m(\u001b[0m\u001b[0myPoints\u001b[0m\u001b[0;34m[\u001b[0m\u001b[0mi\u001b[0m\u001b[0;34m]\u001b[0m\u001b[0;34m,\u001b[0m \u001b[0mwalkerCount\u001b[0m\u001b[0;34m,\u001b[0m \u001b[0minter\u001b[0m\u001b[0;34m,\u001b[0m \u001b[0mstepSize\u001b[0m\u001b[0;34m)\u001b[0m\u001b[0;34m\u001b[0m\u001b[0;34m\u001b[0m\u001b[0m\n\u001b[1;32m     26\u001b[0m \u001b[0;34m\u001b[0m\u001b[0m\n",
            "\u001b[0;31mIndexError\u001b[0m: too many indices for array: array is 1-dimensional, but 2 were indexed"
          ]
        }
      ]
    },
    {
      "cell_type": "code",
      "metadata": {
        "colab": {
          "base_uri": "https://localhost:8080/"
        },
        "id": "PS43jwaA30zn",
        "outputId": "ddcd0a1f-0262-4f86-b55e-599035f10588"
      },
      "source": [
        "fitVec"
      ],
      "execution_count": null,
      "outputs": [
        {
          "output_type": "execute_result",
          "data": {
            "text/plain": [
              "array([[0.14586225, 0.2170533 , 0.26602379, 0.27603427, 0.40338524],\n",
              "       [0.93167645, 0.83803068, 0.86090947, 0.68473887, 0.77651289],\n",
              "       [0.7535081 , 0.77203891, 0.81803076, 0.89743169, 1.01621576],\n",
              "       [0.37692605, 0.25673337, 0.41238675, 0.48714684, 0.39155136],\n",
              "       [0.22791252, 0.47991437, 0.41961006, 0.39737105, 0.18015028],\n",
              "       [1.        , 1.        , 1.        , 1.        , 1.        ],\n",
              "       [1.        , 1.        , 1.        , 1.        , 1.        ],\n",
              "       [1.        , 1.        , 1.        , 1.        , 1.        ],\n",
              "       [1.        , 1.        , 1.        , 1.        , 1.        ],\n",
              "       [1.        , 1.        , 1.        , 1.        , 1.        ]])"
            ]
          },
          "metadata": {
            "tags": []
          },
          "execution_count": 24
        }
      ]
    }
  ]
}