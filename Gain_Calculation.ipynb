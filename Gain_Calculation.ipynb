{
  "nbformat": 4,
  "nbformat_minor": 0,
  "metadata": {
    "colab": {
      "provenance": [],
      "authorship_tag": "ABX9TyN6mG9T5M469R33NGxfpQRl",
      "include_colab_link": true
    },
    "kernelspec": {
      "name": "python3",
      "display_name": "Python 3"
    },
    "language_info": {
      "name": "python"
    }
  },
  "cells": [
    {
      "cell_type": "markdown",
      "metadata": {
        "id": "view-in-github",
        "colab_type": "text"
      },
      "source": [
        "<a href=\"https://colab.research.google.com/github/mcnica89/DNNs/blob/main/Gain_Calculation.ipynb\" target=\"_parent\"><img src=\"https://colab.research.google.com/assets/colab-badge.svg\" alt=\"Open In Colab\"/></a>"
      ]
    },
    {
      "cell_type": "code",
      "execution_count": 20,
      "metadata": {
        "colab": {
          "base_uri": "https://localhost:8080/"
        },
        "id": "OPHE8pf-bo-j",
        "outputId": "ab7c376e-1aac-4896-854d-515ab9fbfbb3"
      },
      "outputs": [
        {
          "output_type": "stream",
          "name": "stdout",
          "text": [
            "----ReLU-----\n",
            "E[ReLU(Z)^2)] ~= 0.5000 +\\- 0.0000\n",
            "Gain = 1/sqrt(E[ReLU(Z)^2]) ~= 1.4142\n",
            "----tanh-----\n",
            "E[tanh(Z)^2)] ~= 0.3943 +\\- 0.0000\n",
            "Gain = 1/sqrt(E[tanh(Z)^2]) ~= 1.5925\n"
          ]
        }
      ],
      "source": [
        "import numpy as np\n",
        "from scipy import integrate\n",
        "\n",
        "def calculate_gain(activation_func,name='Activation_Func'):\n",
        "  std_gauss = lambda x: np.exp(-0.5*x**2)/np.sqrt(2*np.pi) \n",
        "  f = lambda x:activation_func(x)**2*std_gauss(x)\n",
        "  val,err = integrate.quadrature(f, -6.0, 6.0)\n",
        "  print(f'----{name}-----')\n",
        "  print(f'E[{name}(Z)^2)] ~= {val:.4f} +\\- {err:.4f}')\n",
        "  print(f'Gain = 1/sqrt(E[{name}(Z)^2]) ~= {1/np.sqrt(val):.4f}')\n",
        "\n",
        "\n",
        "relu = lambda x: x*(x > 0.0)\n",
        "calculate_gain(relu,'ReLU')\n",
        "\n",
        "tanh = lambda x: np.tanh(x)\n",
        "calculate_gain(tanh,'tanh')"
      ]
    }
  ]
}